{
 "cells": [
  {
   "cell_type": "code",
   "execution_count": 1,
   "id": "6a8d61db-36a8-4b8c-af1a-e6be372205b2",
   "metadata": {},
   "outputs": [
    {
     "name": "stdout",
     "output_type": "stream",
     "text": [
      "My variant:  3\n"
     ]
    }
   ],
   "source": [
    "N = ord(\"R\") % 10 + 1\n",
    "print(\"My variant: \", N)"
   ]
  },
  {
   "cell_type": "markdown",
   "id": "a3bc644e-31e0-45ca-966c-ca30d8c5102a",
   "metadata": {},
   "source": [
    "## Завдання 3\n",
    "\n",
    "## Гайана\n",
    "\n",
    "## Загальна інформація\n",
    "**Гайана** (офіційна назва – *Кооперативна Республіка Гайана*) – країна на північному сході Південної Америки.\n",
    "\n",
    "### Основні характеристики:\n",
    "- **Столиця:** Джорджтаун  \n",
    "- **Площа:** 214 969 км²  \n",
    "- **Населення:** ~800 тис. осіб  \n",
    "- **Офіційна мова:** Англійська  \n",
    "- **Форма правління:** Президентська республіка  \n",
    "\n",
    "## 🌍 Географія\n",
    "Гайана межує з:\n",
    "- 🏞️ **Венесуелою** на заході\n",
    "- 🏝️ **Суринамом** на сході\n",
    "- 🌿 **Бразилією** на півдні\n",
    "\n",
    "Рельєф країни включає:\n",
    "- Узбережжя Атлантичного океану  \n",
    "- Внутрішні райони:\n",
    "  - **Гори:**  \n",
    "    - Гора Рорайма (найвища точка)  \n",
    "  - **Річки:**  \n",
    "    - Ессекібо  \n",
    "    - Демерара  \n",
    "    - Бербіс  \n",
    "  - **Водоспади:**  \n",
    "    - Кайетур  \n",
    "    - Оріндук  \n",
    "\n",
    "---\n",
    "\n",
    "## 📜 Історія\n",
    "- 1498 – відкриття території Христофором Колумбом  \n",
    "- 1814 – колонізація британцями  \n",
    "- 1966 – проголошення незалежності  \n",
    "\n",
    "---\n",
    "\n",
    "## 🎭 Культура\n",
    "### Визначні пам’ятки:\n",
    "- **Собор Святого Георгія** – один із найвищих дерев'яних соборів у світі  \n",
    "- **Водоспад Кайетур** – один із найвищих однокаскадних водоспадів у світі  \n",
    "- **Ботанічний сад Джорджтауна**  \n",
    "\n",
    "### Видатні особистості:\n",
    "- **Чеді Джаган** – перший прем'єр-міністр незалежної Гайани  \n",
    "- **Форбс Бернем** – перший президент країни  \n",
    "\n",
    "---\n",
    "\n",
    "## 📊 Економіка\n",
    "\n",
    "| Галузь          | Частка ВВП |\n",
    "|----------------|------------|\n",
    "| Сільське господарство | 25%       |\n",
    "| Гірнича справа     | 24%       |\n",
    "| Сфера обслуговування            | 51%       |\n",
    "\n",
    "---\n",
    "\n",
    "## 📷 Зображення\n",
    "### Водоспад Кайетур:\n",
    "![Kaieteur Falls](https://cdn.britannica.com/02/124402-050-D37F3264/Kaieteur-Falls-Guyana.jpg)\n",
    "\n",
    "\n"
   ]
  },
  {
   "cell_type": "code",
   "execution_count": 3,
   "id": "898ca58f-1541-4261-b2d6-a6ec43c32152",
   "metadata": {},
   "outputs": [
    {
     "data": {
      "text/html": [
       "\n",
       "<h2>Прапор Гайани (SVG):</h2> \n",
       "\n",
       "<svg width=\"300\" height=\"200\">\n",
       "  <rect width=\"300\" height=\"200\" fill=\"green\"/>\n",
       "  <polygon points=\"0,0 300,100 0,200\" fill=\"yellow\" stroke=\"white\" stroke-width=\"5\"/>\n",
       "  <polygon points=\"0,0 125,100 0,200\" fill=\"red\" stroke=\"black\" stroke-width=\"5\"/>\n",
       "</svg>\n"
      ],
      "text/plain": [
       "<IPython.core.display.HTML object>"
      ]
     },
     "metadata": {},
     "output_type": "display_data"
    }
   ],
   "source": [
    "%%HTML\n",
    "\n",
    "<h2>Прапор Гайани (SVG):</h2> \n",
    "\n",
    "<svg width=\"300\" height=\"200\">\n",
    "  <rect width=\"300\" height=\"200\" fill=\"green\"/>\n",
    "  <polygon points=\"0,0 300,100 0,200\" fill=\"yellow\" stroke=\"white\" stroke-width=\"5\"/>\n",
    "  <polygon points=\"0,0 125,100 0,200\" fill=\"red\" stroke=\"black\" stroke-width=\"5\"/>\n",
    "</svg>"
   ]
  },
  {
   "cell_type": "markdown",
   "id": "0fd12ab3-2b0d-44db-8b77-b0f3bc985f7f",
   "metadata": {},
   "source": [
    "## Завдання 4\n",
    "Створити функцію для реалізації алгоритму, відповідно до номеру свого\n",
    "варіанту(3). Для створеної функції реалізувати 2-3 тестові приклади в\n",
    "комірках ноутбуку.\n",
    "\n",
    "Вводиться список цілих чисел. Знайти число, або\n",
    "кортеж чисел, що буде рівно посередині списку, якщо\n",
    "список відсортувати. Список вводиться в рядок через\n",
    "пробіл.\n",
    "\n",
    "Приклади:\n",
    ">In  [2]     task_3() 2 4 5 1 7;\n",
    "\n",
    ">Out [2]     4 – це середина відсортованого списку\n",
    "\n",
    ">In  [3]     task_3() 7 3 1 7 4 2 8 2\n",
    "\n",
    ">Out [3]     (3, 4) – це середина відсортованого списку"
   ]
  },
  {
   "cell_type": "code",
   "execution_count": 5,
   "id": "eb599e9d-72fb-48e5-9637-b66c121bb597",
   "metadata": {},
   "outputs": [],
   "source": [
    "def task_3():\n",
    "    numbers = input().strip()\n",
    "    if not numbers:\n",
    "        print(\"Помилка: список не може бути порожнім.\")\n",
    "        return\n",
    "    try:\n",
    "        numbers = list(map(int, numbers.split()))\n",
    "    except ValueError:\n",
    "        print(\"Помилка: введіть лише цілі числа через пробіл. \")\n",
    "        return\n",
    "    numbers.sort()\n",
    "    n = len(numbers)\n",
    "    mid = n // 2\n",
    "    if n % 2 == 1:\n",
    "        result = numbers[mid] \n",
    "    else:\n",
    "        result = (numbers[mid - 1], numbers[mid])\n",
    "    print(f\"{result} – це середина відсортованого списку\")"
   ]
  },
  {
   "cell_type": "code",
   "execution_count": 6,
   "id": "78567931-2555-41bd-8055-e6f157791b3d",
   "metadata": {},
   "outputs": [
    {
     "name": "stdin",
     "output_type": "stream",
     "text": [
      " 6 2 5 4 1 7\n"
     ]
    },
    {
     "name": "stdout",
     "output_type": "stream",
     "text": [
      "(4, 5) – це середина відсортованого списку\n"
     ]
    }
   ],
   "source": [
    "task_3()"
   ]
  },
  {
   "cell_type": "code",
   "execution_count": null,
   "id": "4bfb6580-88be-4046-a68a-8f948111ac04",
   "metadata": {},
   "outputs": [],
   "source": []
  }
 ],
 "metadata": {
  "kernelspec": {
   "display_name": "Python 3 (ipykernel)",
   "language": "python",
   "name": "python3"
  },
  "language_info": {
   "codemirror_mode": {
    "name": "ipython",
    "version": 3
   },
   "file_extension": ".py",
   "mimetype": "text/x-python",
   "name": "python",
   "nbconvert_exporter": "python",
   "pygments_lexer": "ipython3",
   "version": "3.12.7"
  }
 },
 "nbformat": 4,
 "nbformat_minor": 5
}
